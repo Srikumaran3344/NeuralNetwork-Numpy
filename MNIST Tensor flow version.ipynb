{
 "cells": [
  {
   "cell_type": "markdown",
   "id": "2e298aa1",
   "metadata": {},
   "source": [
    "#MNIST in tensor flow version\n",
    "Check the other file to learn the mathematical concepts behind the following"
   ]
  },
  {
   "cell_type": "code",
   "execution_count": null,
   "id": "dc772126",
   "metadata": {},
   "outputs": [
    {
     "name": "stdout",
     "output_type": "stream",
     "text": [
      "WARNING:tensorflow:From C:\\Users\\Sri kumaran\\AppData\\Local\\Packages\\PythonSoftwareFoundation.Python.3.11_qbz5n2kfra8p0\\LocalCache\\local-packages\\Python311\\site-packages\\keras\\src\\losses.py:2976: The name tf.losses.sparse_softmax_cross_entropy is deprecated. Please use tf.compat.v1.losses.sparse_softmax_cross_entropy instead.\n",
      "\n",
      "Train shape: (60000, 784), Test shape: (10000, 784)\n",
      "WARNING:tensorflow:From C:\\Users\\Sri kumaran\\AppData\\Local\\Packages\\PythonSoftwareFoundation.Python.3.11_qbz5n2kfra8p0\\LocalCache\\local-packages\\Python311\\site-packages\\keras\\src\\backend.py:873: The name tf.get_default_graph is deprecated. Please use tf.compat.v1.get_default_graph instead.\n",
      "\n",
      "Epoch 1/15\n",
      "WARNING:tensorflow:From C:\\Users\\Sri kumaran\\AppData\\Local\\Packages\\PythonSoftwareFoundation.Python.3.11_qbz5n2kfra8p0\\LocalCache\\local-packages\\Python311\\site-packages\\keras\\src\\utils\\tf_utils.py:492: The name tf.ragged.RaggedTensorValue is deprecated. Please use tf.compat.v1.ragged.RaggedTensorValue instead.\n",
      "\n",
      "WARNING:tensorflow:From C:\\Users\\Sri kumaran\\AppData\\Local\\Packages\\PythonSoftwareFoundation.Python.3.11_qbz5n2kfra8p0\\LocalCache\\local-packages\\Python311\\site-packages\\keras\\src\\engine\\base_layer_utils.py:384: The name tf.executing_eagerly_outside_functions is deprecated. Please use tf.compat.v1.executing_eagerly_outside_functions instead.\n",
      "\n",
      "844/844 - 2s - loss: 0.3471 - accuracy: 0.9005 - val_loss: 0.1848 - val_accuracy: 0.9477 - 2s/epoch - 3ms/step\n",
      "Epoch 2/15\n",
      "844/844 - 2s - loss: 0.1655 - accuracy: 0.9513 - val_loss: 0.1311 - val_accuracy: 0.9622 - 2s/epoch - 2ms/step\n",
      "Epoch 3/15\n",
      "844/844 - 2s - loss: 0.1241 - accuracy: 0.9631 - val_loss: 0.1066 - val_accuracy: 0.9675 - 2s/epoch - 2ms/step\n",
      "Epoch 4/15\n",
      "844/844 - 2s - loss: 0.1011 - accuracy: 0.9701 - val_loss: 0.0976 - val_accuracy: 0.9715 - 2s/epoch - 2ms/step\n",
      "Epoch 5/15\n",
      "844/844 - 2s - loss: 0.0863 - accuracy: 0.9738 - val_loss: 0.0900 - val_accuracy: 0.9725 - 2s/epoch - 2ms/step\n",
      "Epoch 6/15\n",
      "844/844 - 2s - loss: 0.0746 - accuracy: 0.9770 - val_loss: 0.0838 - val_accuracy: 0.9740 - 2s/epoch - 2ms/step\n",
      "Epoch 7/15\n",
      "844/844 - 2s - loss: 0.0658 - accuracy: 0.9792 - val_loss: 0.0818 - val_accuracy: 0.9737 - 2s/epoch - 2ms/step\n",
      "Epoch 8/15\n",
      "844/844 - 2s - loss: 0.0589 - accuracy: 0.9814 - val_loss: 0.0828 - val_accuracy: 0.9748 - 2s/epoch - 2ms/step\n",
      "Epoch 9/15\n",
      "844/844 - 1s - loss: 0.0541 - accuracy: 0.9827 - val_loss: 0.0730 - val_accuracy: 0.9773 - 1s/epoch - 2ms/step\n",
      "Epoch 10/15\n",
      "844/844 - 1s - loss: 0.0489 - accuracy: 0.9838 - val_loss: 0.0725 - val_accuracy: 0.9800 - 1s/epoch - 1ms/step\n",
      "Epoch 11/15\n",
      "844/844 - 1s - loss: 0.0454 - accuracy: 0.9856 - val_loss: 0.0721 - val_accuracy: 0.9795 - 1s/epoch - 1ms/step\n",
      "Epoch 12/15\n",
      "844/844 - 1s - loss: 0.0410 - accuracy: 0.9865 - val_loss: 0.0734 - val_accuracy: 0.9802 - 1s/epoch - 1ms/step\n",
      "Epoch 13/15\n",
      "844/844 - 1s - loss: 0.0373 - accuracy: 0.9882 - val_loss: 0.0747 - val_accuracy: 0.9803 - 1s/epoch - 1ms/step\n",
      "Epoch 14/15\n",
      "844/844 - 1s - loss: 0.0348 - accuracy: 0.9886 - val_loss: 0.0817 - val_accuracy: 0.9793 - 1s/epoch - 2ms/step\n",
      "Epoch 15/15\n",
      "844/844 - 1s - loss: 0.0342 - accuracy: 0.9890 - val_loss: 0.0723 - val_accuracy: 0.9812 - 1s/epoch - 2ms/step\n",
      "\n",
      "Final Test Accuracy: 0.9799\n"
     ]
    }
   ],
   "source": [
    "# TensorFlow/Keras MNIST Example\n",
    "from keras.models import Sequential\n",
    "from keras.layers import Dense, Flatten, Dropout\n",
    "from keras.optimizers import Adam\n",
    "from sklearn.model_selection import train_test_split\n",
    "from sklearn.datasets import fetch_openml\n",
    "import numpy as np\n",
    "\n",
    "# ------------------ Load and preprocess MNIST ------------------\n",
    "X, y = fetch_openml(\"mnist_784\", version=1, as_frame=False, return_X_y=True)\n",
    "X = X / 255.0                 # normalize pixels 0-1\n",
    "y = y.astype(np.int64)        # convert string labels to int\n",
    "\n",
    "# Split into train/test\n",
    "X_train, X_test, y_train, y_test = train_test_split(\n",
    "    X, y, test_size=10000, random_state=42, stratify=y\n",
    ")\n",
    "\n",
    "print(f\"Train shape: {X_train.shape}, Test shape: {X_test.shape}\")\n",
    "\n",
    "# ------------------ Build Keras Model ------------------\n",
    "model = Sequential([\n",
    "    Dense(128, activation='relu', input_shape=(784,)),  # hidden layer\n",
    "    Dropout(0.2),                                       # optional dropout\n",
    "    Dense(10, activation='softmax')                     # output layer\n",
    "])\n",
    "\n",
    "# ------------------ Compile Model ------------------\n",
    "model.compile(\n",
    "    optimizer=Adam(learning_rate=0.001),\n",
    "    loss='sparse_categorical_crossentropy',  # use integer labels directly\n",
    "    metrics=['accuracy']\n",
    ")\n",
    "\n",
    "# ------------------ Train Model ------------------\n",
    "history = model.fit(\n",
    "    X_train, y_train,\n",
    "    epochs=15,\n",
    "    batch_size=64,\n",
    "    validation_split=0.1,  # optional validation\n",
    "    verbose=2\n",
    ")\n",
    "\n",
    "# ------------------ Evaluate on Test Set ------------------\n",
    "test_loss, test_accuracy = model.evaluate(X_test, y_test, verbose=0)\n",
    "print(f\"\\nFinal Test Accuracy: {test_accuracy:.4f}\")\n"
   ]
  }
 ],
 "metadata": {
  "kernelspec": {
   "display_name": "Python 3",
   "language": "python",
   "name": "python3"
  },
  "language_info": {
   "codemirror_mode": {
    "name": "ipython",
    "version": 3
   },
   "file_extension": ".py",
   "mimetype": "text/x-python",
   "name": "python",
   "nbconvert_exporter": "python",
   "pygments_lexer": "ipython3",
   "version": "3.11.9"
  }
 },
 "nbformat": 4,
 "nbformat_minor": 5
}
