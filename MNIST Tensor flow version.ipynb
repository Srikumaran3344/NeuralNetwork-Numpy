{
 "cells": [
  {
   "cell_type": "markdown",
   "id": "2e298aa1",
   "metadata": {},
   "source": [
    "#MNIST in tensor flow version\n",
    "Check the other file to learn the mathematical concepts behind the following"
   ]
  },
  {
   "cell_type": "code",
   "execution_count": null,
   "id": "dc772126",
   "metadata": {
    "vscode": {
     "languageId": "plaintext"
    }
   },
   "outputs": [],
   "source": [
    "# TensorFlow/Keras MNIST Example\n",
    "import tensorflow as tf\n",
    "from tensorflow.keras.models import Sequential\n",
    "from tensorflow.keras.layers import Dense, Flatten, Dropout\n",
    "from tensorflow.keras.optimizers import Adam\n",
    "from sklearn.model_selection import train_test_split\n",
    "from sklearn.datasets import fetch_openml\n",
    "import numpy as np\n",
    "\n",
    "# ------------------ Load and preprocess MNIST ------------------\n",
    "X, y = fetch_openml(\"mnist_784\", version=1, as_frame=False, return_X_y=True)\n",
    "X = X / 255.0                 # normalize pixels 0-1\n",
    "y = y.astype(np.int64)        # convert string labels to int\n",
    "\n",
    "# Split into train/test\n",
    "X_train, X_test, y_train, y_test = train_test_split(\n",
    "    X, y, test_size=10000, random_state=42, stratify=y\n",
    ")\n",
    "\n",
    "print(f\"Train shape: {X_train.shape}, Test shape: {X_test.shape}\")\n",
    "\n",
    "# ------------------ Build Keras Model ------------------\n",
    "model = Sequential([\n",
    "    Dense(128, activation='relu', input_shape=(784,)),  # hidden layer\n",
    "    Dropout(0.2),                                       # optional dropout\n",
    "    Dense(10, activation='softmax')                     # output layer\n",
    "])\n",
    "\n",
    "# ------------------ Compile Model ------------------\n",
    "model.compile(\n",
    "    optimizer=Adam(learning_rate=0.001),\n",
    "    loss='sparse_categorical_crossentropy',  # use integer labels directly\n",
    "    metrics=['accuracy']\n",
    ")\n",
    "\n",
    "# ------------------ Train Model ------------------\n",
    "history = model.fit(\n",
    "    X_train, y_train,\n",
    "    epochs=15,\n",
    "    batch_size=64,\n",
    "    validation_split=0.1,  # optional validation\n",
    "    verbose=2\n",
    ")\n",
    "\n",
    "# ------------------ Evaluate on Test Set ------------------\n",
    "test_loss, test_accuracy = model.evaluate(X_test, y_test, verbose=0)\n",
    "print(f\"\\nFinal Test Accuracy: {test_accuracy:.4f}\")\n"
   ]
  }
 ],
 "metadata": {
  "language_info": {
   "name": "python"
  }
 },
 "nbformat": 4,
 "nbformat_minor": 5
}
