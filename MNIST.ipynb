{
 "cells": [
  {
   "cell_type": "markdown",
   "id": "e11646bc",
   "metadata": {},
   "source": [
    "MNIST- refers to image identification of hand written digits data\n",
    "\n",
    "As for tthe data set we can either get it through kaggle, keras, or even openml\n",
    "In this project we are using openML since we do not want to use keras in this complete code\n",
    "\n",
    "The data will be a 28x28 pixel image for each number which is filled with solid black and solid white colors, which we refer as 0 , 1. Where 0 refers to black and 1 refers to white, but in system recoginition the value is given as its density value which is 0 for black and 255 for white, hence to use the data set we have to do these minimum steps\n",
    "\n",
    "First, the openml data is given as strings rather than integers hence convert it first\n",
    "then seperate the data as seperate numbers taht is flatten data, which is already done for openml unlike keras\n",
    "then divide the data by 255 to make values as 0 and 1."
   ]
  },
  {
   "cell_type": "code",
   "execution_count": null,
   "id": "000d7bfd",
   "metadata": {
    "vscode": {
     "languageId": "plaintext"
    }
   },
   "outputs": [],
   "source": [
    "\n"
   ]
  }
 ],
 "metadata": {
  "language_info": {
   "name": "python"
  }
 },
 "nbformat": 4,
 "nbformat_minor": 5
}
